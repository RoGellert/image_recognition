{
 "cells": [
  {
   "cell_type": "code",
   "execution_count": 5,
   "id": "initial_id",
   "metadata": {
    "collapsed": true,
    "ExecuteTime": {
     "end_time": "2024-01-01T17:31:53.560441800Z",
     "start_time": "2024-01-01T17:31:52.484523800Z"
    }
   },
   "outputs": [],
   "source": [
    "import torch\n",
    "import torchvision as tv\n",
    "import matplotlib.pyplot as plt\n",
    "import math\n",
    "import numpy as np\n",
    "import pandas as pd\n",
    "import scipy.cluster as cluster\n",
    "import sklearn.preprocessing"
   ]
  },
  {
   "cell_type": "code",
   "execution_count": 6,
   "outputs": [
    {
     "name": "stdout",
     "output_type": "stream",
     "text": [
      "tensor([[0.4374, 0.8226, 0.8049],\n",
      "        [0.4417, 0.6740, 0.1142],\n",
      "        [0.3929, 0.2076, 0.1778],\n",
      "        [0.8994, 0.3614, 0.5041],\n",
      "        [0.8364, 0.1685, 0.8898]])\n"
     ]
    }
   ],
   "source": [
    "x = torch.rand(5, 3)\n",
    "print(x)"
   ],
   "metadata": {
    "collapsed": false,
    "ExecuteTime": {
     "end_time": "2024-01-01T17:31:55.163090900Z",
     "start_time": "2024-01-01T17:31:55.114620600Z"
    }
   },
   "id": "58d175fa8b2e3d1e"
  },
  {
   "cell_type": "code",
   "execution_count": 7,
   "outputs": [
    {
     "data": {
      "text/plain": "False"
     },
     "execution_count": 7,
     "metadata": {},
     "output_type": "execute_result"
    }
   ],
   "source": [
    "torch.cuda.is_available()"
   ],
   "metadata": {
    "collapsed": false,
    "ExecuteTime": {
     "end_time": "2024-01-01T17:31:57.811730800Z",
     "start_time": "2024-01-01T17:31:57.798755500Z"
    }
   },
   "id": "637b3c020748834c"
  },
  {
   "cell_type": "code",
   "execution_count": 10,
   "outputs": [],
   "source": [
    "omniglot_tr = tv.datasets.MNIST(root=\"../omniglot\", train=True, download=True)\n",
    "omniglot_te = tv.datasets.MNIST(root=\"../omniglot\", train=False, download=True)"
   ],
   "metadata": {
    "collapsed": false,
    "ExecuteTime": {
     "end_time": "2024-01-01T17:35:10.829620700Z",
     "start_time": "2024-01-01T17:35:10.744772200Z"
    }
   },
   "id": "8ebab29ae00955da"
  }
 ],
 "metadata": {
  "kernelspec": {
   "display_name": "Python 3",
   "language": "python",
   "name": "python3"
  },
  "language_info": {
   "codemirror_mode": {
    "name": "ipython",
    "version": 2
   },
   "file_extension": ".py",
   "mimetype": "text/x-python",
   "name": "python",
   "nbconvert_exporter": "python",
   "pygments_lexer": "ipython2",
   "version": "2.7.6"
  }
 },
 "nbformat": 4,
 "nbformat_minor": 5
}
